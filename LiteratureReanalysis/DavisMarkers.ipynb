{
 "cells": [
  {
   "cell_type": "code",
   "execution_count": 1,
   "metadata": {},
   "outputs": [
    {
     "name": "stderr",
     "output_type": "stream",
     "text": [
      "Warning message:\n",
      "\"package 'Seurat' was built under R version 4.1.3\"\n",
      "Attaching SeuratObject\n",
      "\n",
      "Attaching sp\n",
      "\n"
     ]
    }
   ],
   "source": [
    "    library(Seurat)\n",
    "yost = readRDS('yost_object.RDS')"
   ]
  },
  {
   "cell_type": "code",
   "execution_count": 2,
   "metadata": {},
   "outputs": [],
   "source": [
    "sub = subset(yost, cells = colnames(yost)[yost$lcmv == 'Chronic_D21' &  (yost$sort == c('TetPos')) &yost$tissue == 'Spleen' & yost$ident %in% c('Naive','Ifn_Response', 'TEx', 'TEx_earlyEffector', 'TEx_int', 'TEx_KLR', 'TEx_prog')])"
   ]
  },
  {
   "cell_type": "code",
   "execution_count": 5,
   "metadata": {},
   "outputs": [
    {
     "data": {
      "text/html": [
       "<table class=\"dataframe\">\n",
       "<caption>A data.frame: 6 × 19</caption>\n",
       "<thead>\n",
       "\t<tr><th></th><th scope=col>orig.ident</th><th scope=col>nCount_RNA</th><th scope=col>nFeature_RNA</th><th scope=col>tcr_cdr3s_aa</th><th scope=col>tcr_cdr3s_nt</th><th scope=col>tissue</th><th scope=col>lcmv</th><th scope=col>sort</th><th scope=col>ident</th><th scope=col>UMAP_1</th><th scope=col>UMAP_2</th><th scope=col>batch</th><th scope=col>experiment</th><th scope=col>S.Score</th><th scope=col>G2M.Score</th><th scope=col>Phase</th><th scope=col>integrate.ident</th><th scope=col>integrated_snn_res.0.45</th><th scope=col>seurat_clusters</th></tr>\n",
       "\t<tr><th></th><th scope=col>&lt;chr&gt;</th><th scope=col>&lt;dbl&gt;</th><th scope=col>&lt;int&gt;</th><th scope=col>&lt;chr&gt;</th><th scope=col>&lt;chr&gt;</th><th scope=col>&lt;chr&gt;</th><th scope=col>&lt;chr&gt;</th><th scope=col>&lt;chr&gt;</th><th scope=col>&lt;chr&gt;</th><th scope=col>&lt;dbl&gt;</th><th scope=col>&lt;dbl&gt;</th><th scope=col>&lt;chr&gt;</th><th scope=col>&lt;chr&gt;</th><th scope=col>&lt;dbl&gt;</th><th scope=col>&lt;dbl&gt;</th><th scope=col>&lt;chr&gt;</th><th scope=col>&lt;chr&gt;</th><th scope=col>&lt;fct&gt;</th><th scope=col>&lt;fct&gt;</th></tr>\n",
       "</thead>\n",
       "<tbody>\n",
       "\t<tr><th scope=row>Spleen_Chronic_D21_CD8_TetPos_gex_AAACCTGAGATCGGGT-1</th><td>Spleen_Chronic_D21_TetPos</td><td>3568.267</td><td>3674</td><td>                                    </td><td>                                                                                          </td><td>Spleen</td><td>Chronic_D21</td><td>TetPos</td><td>TEx_prog</td><td> 5.1429323</td><td> 3.791651</td><td>Spleen_Chronic_D21_CD8_TetPos_gex</td><td>Exp1</td><td>-0.0751224673</td><td>-0.12768138</td><td>G1</td><td>Exp1</td><td>7</td><td>7</td></tr>\n",
       "\t<tr><th scope=row>Spleen_Chronic_D21_CD8_TetPos_gex_AAACCTGAGCGTTGCC-1</th><td>Spleen_Chronic_D21_TetPos</td><td>2855.101</td><td>1959</td><td>TRA:CAFEVVGQLTF;TRB:CASSFRDSSYEQYF  </td><td>TRA:TGTGCTTTCGAGGTTGTGGGGCAGCTCACTTTC;TRB:TGTGCCAGCAGTTTCAGGGACAGCTCCTATGAACAGTACTTC      </td><td>Spleen</td><td>Chronic_D21</td><td>TetPos</td><td>TEx     </td><td>-6.4847085</td><td> 2.957752</td><td>Spleen_Chronic_D21_CD8_TetPos_gex</td><td>Exp1</td><td>-0.0039184913</td><td>-0.02759395</td><td>G1</td><td>Exp1</td><td>0</td><td>0</td></tr>\n",
       "\t<tr><th scope=row>Spleen_Chronic_D21_CD8_TetPos_gex_AAACCTGAGGCTCTTA-1</th><td>Spleen_Chronic_D21_TetPos</td><td>2734.070</td><td>1722</td><td>TRA:CALSEPNYNVLYF;TRB:CASSDWDNTEVFF </td><td>TRA:TGTGCTCTGAGTGAGCCTAATTACAACGTGCTTTACTTC;TRB:TGTGCCAGCAGTGACTGGGACAACACAGAAGTCTTCTTT   </td><td>Spleen</td><td>Chronic_D21</td><td>TetPos</td><td>TEx     </td><td>-3.9037251</td><td> 4.197209</td><td>Spleen_Chronic_D21_CD8_TetPos_gex</td><td>Exp1</td><td>-0.0890207255</td><td>-0.00299223</td><td>G1</td><td>Exp1</td><td>0</td><td>0</td></tr>\n",
       "\t<tr><th scope=row>Spleen_Chronic_D21_CD8_TetPos_gex_AAACCTGCAAAGCAAT-1</th><td>Spleen_Chronic_D21_TetPos</td><td>2844.360</td><td>1833</td><td>TRA:CAVSIPGSWQLIF;TRB:CASSSRAGNTEVFF</td><td>TRA:TGTGCTGTGAGCATCCCTGGCAGCTGGCAACTCATCTTT;TRB:TGTGCTAGCAGTAGTCGGGCAGGGAACACAGAAGTCTTCTTT</td><td>Spleen</td><td>Chronic_D21</td><td>TetPos</td><td>TEx_int </td><td>-1.4091745</td><td>-4.277690</td><td>Spleen_Chronic_D21_CD8_TetPos_gex</td><td>Exp1</td><td>-0.0008411922</td><td>-0.11616059</td><td>G1</td><td>Exp1</td><td>2</td><td>2</td></tr>\n",
       "\t<tr><th scope=row>Spleen_Chronic_D21_CD8_TetPos_gex_AAACCTGCACGGTAGA-1</th><td>Spleen_Chronic_D21_TetPos</td><td>2619.978</td><td>1737</td><td>TRA:CAFEVVGQLTF;TRB:CASSFRDSSYEQYF  </td><td>TRA:TGTGCTTTCGAGGTTGTGGGGCAGCTCACTTTC;TRB:TGTGCCAGCAGTTTCAGGGACAGCTCCTATGAACAGTACTTC      </td><td>Spleen</td><td>Chronic_D21</td><td>TetPos</td><td>TEx     </td><td>-5.4772088</td><td> 2.850194</td><td>Spleen_Chronic_D21_CD8_TetPos_gex</td><td>Exp1</td><td>-0.0457123502</td><td>-0.12167401</td><td>G1</td><td>Exp1</td><td>0</td><td>0</td></tr>\n",
       "\t<tr><th scope=row>Spleen_Chronic_D21_CD8_TetPos_gex_AAACCTGCACTTAAGC-1</th><td>Spleen_Chronic_D21_TetPos</td><td>2805.686</td><td>1812</td><td>TRB:CASSLEDWGGEQYF                  </td><td>TRB:TGTGCCAGCTCTCTCGAGGACTGGGGGGGGGAACAGTACTTC                                            </td><td>Spleen</td><td>Chronic_D21</td><td>TetPos</td><td>TEx_KLR </td><td>-0.9639859</td><td>-5.314829</td><td>Spleen_Chronic_D21_CD8_TetPos_gex</td><td>Exp1</td><td>-0.1105587602</td><td>-0.15395307</td><td>G1</td><td>Exp1</td><td>1</td><td>1</td></tr>\n",
       "</tbody>\n",
       "</table>\n"
      ],
      "text/latex": [
       "A data.frame: 6 × 19\n",
       "\\begin{tabular}{r|lllllllllllllllllll}\n",
       "  & orig.ident & nCount\\_RNA & nFeature\\_RNA & tcr\\_cdr3s\\_aa & tcr\\_cdr3s\\_nt & tissue & lcmv & sort & ident & UMAP\\_1 & UMAP\\_2 & batch & experiment & S.Score & G2M.Score & Phase & integrate.ident & integrated\\_snn\\_res.0.45 & seurat\\_clusters\\\\\n",
       "  & <chr> & <dbl> & <int> & <chr> & <chr> & <chr> & <chr> & <chr> & <chr> & <dbl> & <dbl> & <chr> & <chr> & <dbl> & <dbl> & <chr> & <chr> & <fct> & <fct>\\\\\n",
       "\\hline\n",
       "\tSpleen\\_Chronic\\_D21\\_CD8\\_TetPos\\_gex\\_AAACCTGAGATCGGGT-1 & Spleen\\_Chronic\\_D21\\_TetPos & 3568.267 & 3674 &                                      &                                                                                            & Spleen & Chronic\\_D21 & TetPos & TEx\\_prog &  5.1429323 &  3.791651 & Spleen\\_Chronic\\_D21\\_CD8\\_TetPos\\_gex & Exp1 & -0.0751224673 & -0.12768138 & G1 & Exp1 & 7 & 7\\\\\n",
       "\tSpleen\\_Chronic\\_D21\\_CD8\\_TetPos\\_gex\\_AAACCTGAGCGTTGCC-1 & Spleen\\_Chronic\\_D21\\_TetPos & 2855.101 & 1959 & TRA:CAFEVVGQLTF;TRB:CASSFRDSSYEQYF   & TRA:TGTGCTTTCGAGGTTGTGGGGCAGCTCACTTTC;TRB:TGTGCCAGCAGTTTCAGGGACAGCTCCTATGAACAGTACTTC       & Spleen & Chronic\\_D21 & TetPos & TEx      & -6.4847085 &  2.957752 & Spleen\\_Chronic\\_D21\\_CD8\\_TetPos\\_gex & Exp1 & -0.0039184913 & -0.02759395 & G1 & Exp1 & 0 & 0\\\\\n",
       "\tSpleen\\_Chronic\\_D21\\_CD8\\_TetPos\\_gex\\_AAACCTGAGGCTCTTA-1 & Spleen\\_Chronic\\_D21\\_TetPos & 2734.070 & 1722 & TRA:CALSEPNYNVLYF;TRB:CASSDWDNTEVFF  & TRA:TGTGCTCTGAGTGAGCCTAATTACAACGTGCTTTACTTC;TRB:TGTGCCAGCAGTGACTGGGACAACACAGAAGTCTTCTTT    & Spleen & Chronic\\_D21 & TetPos & TEx      & -3.9037251 &  4.197209 & Spleen\\_Chronic\\_D21\\_CD8\\_TetPos\\_gex & Exp1 & -0.0890207255 & -0.00299223 & G1 & Exp1 & 0 & 0\\\\\n",
       "\tSpleen\\_Chronic\\_D21\\_CD8\\_TetPos\\_gex\\_AAACCTGCAAAGCAAT-1 & Spleen\\_Chronic\\_D21\\_TetPos & 2844.360 & 1833 & TRA:CAVSIPGSWQLIF;TRB:CASSSRAGNTEVFF & TRA:TGTGCTGTGAGCATCCCTGGCAGCTGGCAACTCATCTTT;TRB:TGTGCTAGCAGTAGTCGGGCAGGGAACACAGAAGTCTTCTTT & Spleen & Chronic\\_D21 & TetPos & TEx\\_int  & -1.4091745 & -4.277690 & Spleen\\_Chronic\\_D21\\_CD8\\_TetPos\\_gex & Exp1 & -0.0008411922 & -0.11616059 & G1 & Exp1 & 2 & 2\\\\\n",
       "\tSpleen\\_Chronic\\_D21\\_CD8\\_TetPos\\_gex\\_AAACCTGCACGGTAGA-1 & Spleen\\_Chronic\\_D21\\_TetPos & 2619.978 & 1737 & TRA:CAFEVVGQLTF;TRB:CASSFRDSSYEQYF   & TRA:TGTGCTTTCGAGGTTGTGGGGCAGCTCACTTTC;TRB:TGTGCCAGCAGTTTCAGGGACAGCTCCTATGAACAGTACTTC       & Spleen & Chronic\\_D21 & TetPos & TEx      & -5.4772088 &  2.850194 & Spleen\\_Chronic\\_D21\\_CD8\\_TetPos\\_gex & Exp1 & -0.0457123502 & -0.12167401 & G1 & Exp1 & 0 & 0\\\\\n",
       "\tSpleen\\_Chronic\\_D21\\_CD8\\_TetPos\\_gex\\_AAACCTGCACTTAAGC-1 & Spleen\\_Chronic\\_D21\\_TetPos & 2805.686 & 1812 & TRB:CASSLEDWGGEQYF                   & TRB:TGTGCCAGCTCTCTCGAGGACTGGGGGGGGGAACAGTACTTC                                             & Spleen & Chronic\\_D21 & TetPos & TEx\\_KLR  & -0.9639859 & -5.314829 & Spleen\\_Chronic\\_D21\\_CD8\\_TetPos\\_gex & Exp1 & -0.1105587602 & -0.15395307 & G1 & Exp1 & 1 & 1\\\\\n",
       "\\end{tabular}\n"
      ],
      "text/markdown": [
       "\n",
       "A data.frame: 6 × 19\n",
       "\n",
       "| <!--/--> | orig.ident &lt;chr&gt; | nCount_RNA &lt;dbl&gt; | nFeature_RNA &lt;int&gt; | tcr_cdr3s_aa &lt;chr&gt; | tcr_cdr3s_nt &lt;chr&gt; | tissue &lt;chr&gt; | lcmv &lt;chr&gt; | sort &lt;chr&gt; | ident &lt;chr&gt; | UMAP_1 &lt;dbl&gt; | UMAP_2 &lt;dbl&gt; | batch &lt;chr&gt; | experiment &lt;chr&gt; | S.Score &lt;dbl&gt; | G2M.Score &lt;dbl&gt; | Phase &lt;chr&gt; | integrate.ident &lt;chr&gt; | integrated_snn_res.0.45 &lt;fct&gt; | seurat_clusters &lt;fct&gt; |\n",
       "|---|---|---|---|---|---|---|---|---|---|---|---|---|---|---|---|---|---|---|---|\n",
       "| Spleen_Chronic_D21_CD8_TetPos_gex_AAACCTGAGATCGGGT-1 | Spleen_Chronic_D21_TetPos | 3568.267 | 3674 | <!----> | <!----> | Spleen | Chronic_D21 | TetPos | TEx_prog |  5.1429323 |  3.791651 | Spleen_Chronic_D21_CD8_TetPos_gex | Exp1 | -0.0751224673 | -0.12768138 | G1 | Exp1 | 7 | 7 |\n",
       "| Spleen_Chronic_D21_CD8_TetPos_gex_AAACCTGAGCGTTGCC-1 | Spleen_Chronic_D21_TetPos | 2855.101 | 1959 | TRA:CAFEVVGQLTF;TRB:CASSFRDSSYEQYF   | TRA:TGTGCTTTCGAGGTTGTGGGGCAGCTCACTTTC;TRB:TGTGCCAGCAGTTTCAGGGACAGCTCCTATGAACAGTACTTC       | Spleen | Chronic_D21 | TetPos | TEx      | -6.4847085 |  2.957752 | Spleen_Chronic_D21_CD8_TetPos_gex | Exp1 | -0.0039184913 | -0.02759395 | G1 | Exp1 | 0 | 0 |\n",
       "| Spleen_Chronic_D21_CD8_TetPos_gex_AAACCTGAGGCTCTTA-1 | Spleen_Chronic_D21_TetPos | 2734.070 | 1722 | TRA:CALSEPNYNVLYF;TRB:CASSDWDNTEVFF  | TRA:TGTGCTCTGAGTGAGCCTAATTACAACGTGCTTTACTTC;TRB:TGTGCCAGCAGTGACTGGGACAACACAGAAGTCTTCTTT    | Spleen | Chronic_D21 | TetPos | TEx      | -3.9037251 |  4.197209 | Spleen_Chronic_D21_CD8_TetPos_gex | Exp1 | -0.0890207255 | -0.00299223 | G1 | Exp1 | 0 | 0 |\n",
       "| Spleen_Chronic_D21_CD8_TetPos_gex_AAACCTGCAAAGCAAT-1 | Spleen_Chronic_D21_TetPos | 2844.360 | 1833 | TRA:CAVSIPGSWQLIF;TRB:CASSSRAGNTEVFF | TRA:TGTGCTGTGAGCATCCCTGGCAGCTGGCAACTCATCTTT;TRB:TGTGCTAGCAGTAGTCGGGCAGGGAACACAGAAGTCTTCTTT | Spleen | Chronic_D21 | TetPos | TEx_int  | -1.4091745 | -4.277690 | Spleen_Chronic_D21_CD8_TetPos_gex | Exp1 | -0.0008411922 | -0.11616059 | G1 | Exp1 | 2 | 2 |\n",
       "| Spleen_Chronic_D21_CD8_TetPos_gex_AAACCTGCACGGTAGA-1 | Spleen_Chronic_D21_TetPos | 2619.978 | 1737 | TRA:CAFEVVGQLTF;TRB:CASSFRDSSYEQYF   | TRA:TGTGCTTTCGAGGTTGTGGGGCAGCTCACTTTC;TRB:TGTGCCAGCAGTTTCAGGGACAGCTCCTATGAACAGTACTTC       | Spleen | Chronic_D21 | TetPos | TEx      | -5.4772088 |  2.850194 | Spleen_Chronic_D21_CD8_TetPos_gex | Exp1 | -0.0457123502 | -0.12167401 | G1 | Exp1 | 0 | 0 |\n",
       "| Spleen_Chronic_D21_CD8_TetPos_gex_AAACCTGCACTTAAGC-1 | Spleen_Chronic_D21_TetPos | 2805.686 | 1812 | TRB:CASSLEDWGGEQYF                   | TRB:TGTGCCAGCTCTCTCGAGGACTGGGGGGGGGAACAGTACTTC                                             | Spleen | Chronic_D21 | TetPos | TEx_KLR  | -0.9639859 | -5.314829 | Spleen_Chronic_D21_CD8_TetPos_gex | Exp1 | -0.1105587602 | -0.15395307 | G1 | Exp1 | 1 | 1 |\n",
       "\n"
      ],
      "text/plain": [
       "                                                     orig.ident               \n",
       "Spleen_Chronic_D21_CD8_TetPos_gex_AAACCTGAGATCGGGT-1 Spleen_Chronic_D21_TetPos\n",
       "Spleen_Chronic_D21_CD8_TetPos_gex_AAACCTGAGCGTTGCC-1 Spleen_Chronic_D21_TetPos\n",
       "Spleen_Chronic_D21_CD8_TetPos_gex_AAACCTGAGGCTCTTA-1 Spleen_Chronic_D21_TetPos\n",
       "Spleen_Chronic_D21_CD8_TetPos_gex_AAACCTGCAAAGCAAT-1 Spleen_Chronic_D21_TetPos\n",
       "Spleen_Chronic_D21_CD8_TetPos_gex_AAACCTGCACGGTAGA-1 Spleen_Chronic_D21_TetPos\n",
       "Spleen_Chronic_D21_CD8_TetPos_gex_AAACCTGCACTTAAGC-1 Spleen_Chronic_D21_TetPos\n",
       "                                                     nCount_RNA nFeature_RNA\n",
       "Spleen_Chronic_D21_CD8_TetPos_gex_AAACCTGAGATCGGGT-1 3568.267   3674        \n",
       "Spleen_Chronic_D21_CD8_TetPos_gex_AAACCTGAGCGTTGCC-1 2855.101   1959        \n",
       "Spleen_Chronic_D21_CD8_TetPos_gex_AAACCTGAGGCTCTTA-1 2734.070   1722        \n",
       "Spleen_Chronic_D21_CD8_TetPos_gex_AAACCTGCAAAGCAAT-1 2844.360   1833        \n",
       "Spleen_Chronic_D21_CD8_TetPos_gex_AAACCTGCACGGTAGA-1 2619.978   1737        \n",
       "Spleen_Chronic_D21_CD8_TetPos_gex_AAACCTGCACTTAAGC-1 2805.686   1812        \n",
       "                                                     tcr_cdr3s_aa                        \n",
       "Spleen_Chronic_D21_CD8_TetPos_gex_AAACCTGAGATCGGGT-1                                     \n",
       "Spleen_Chronic_D21_CD8_TetPos_gex_AAACCTGAGCGTTGCC-1 TRA:CAFEVVGQLTF;TRB:CASSFRDSSYEQYF  \n",
       "Spleen_Chronic_D21_CD8_TetPos_gex_AAACCTGAGGCTCTTA-1 TRA:CALSEPNYNVLYF;TRB:CASSDWDNTEVFF \n",
       "Spleen_Chronic_D21_CD8_TetPos_gex_AAACCTGCAAAGCAAT-1 TRA:CAVSIPGSWQLIF;TRB:CASSSRAGNTEVFF\n",
       "Spleen_Chronic_D21_CD8_TetPos_gex_AAACCTGCACGGTAGA-1 TRA:CAFEVVGQLTF;TRB:CASSFRDSSYEQYF  \n",
       "Spleen_Chronic_D21_CD8_TetPos_gex_AAACCTGCACTTAAGC-1 TRB:CASSLEDWGGEQYF                  \n",
       "                                                     tcr_cdr3s_nt                                                                              \n",
       "Spleen_Chronic_D21_CD8_TetPos_gex_AAACCTGAGATCGGGT-1                                                                                           \n",
       "Spleen_Chronic_D21_CD8_TetPos_gex_AAACCTGAGCGTTGCC-1 TRA:TGTGCTTTCGAGGTTGTGGGGCAGCTCACTTTC;TRB:TGTGCCAGCAGTTTCAGGGACAGCTCCTATGAACAGTACTTC      \n",
       "Spleen_Chronic_D21_CD8_TetPos_gex_AAACCTGAGGCTCTTA-1 TRA:TGTGCTCTGAGTGAGCCTAATTACAACGTGCTTTACTTC;TRB:TGTGCCAGCAGTGACTGGGACAACACAGAAGTCTTCTTT   \n",
       "Spleen_Chronic_D21_CD8_TetPos_gex_AAACCTGCAAAGCAAT-1 TRA:TGTGCTGTGAGCATCCCTGGCAGCTGGCAACTCATCTTT;TRB:TGTGCTAGCAGTAGTCGGGCAGGGAACACAGAAGTCTTCTTT\n",
       "Spleen_Chronic_D21_CD8_TetPos_gex_AAACCTGCACGGTAGA-1 TRA:TGTGCTTTCGAGGTTGTGGGGCAGCTCACTTTC;TRB:TGTGCCAGCAGTTTCAGGGACAGCTCCTATGAACAGTACTTC      \n",
       "Spleen_Chronic_D21_CD8_TetPos_gex_AAACCTGCACTTAAGC-1 TRB:TGTGCCAGCTCTCTCGAGGACTGGGGGGGGGAACAGTACTTC                                            \n",
       "                                                     tissue lcmv        sort  \n",
       "Spleen_Chronic_D21_CD8_TetPos_gex_AAACCTGAGATCGGGT-1 Spleen Chronic_D21 TetPos\n",
       "Spleen_Chronic_D21_CD8_TetPos_gex_AAACCTGAGCGTTGCC-1 Spleen Chronic_D21 TetPos\n",
       "Spleen_Chronic_D21_CD8_TetPos_gex_AAACCTGAGGCTCTTA-1 Spleen Chronic_D21 TetPos\n",
       "Spleen_Chronic_D21_CD8_TetPos_gex_AAACCTGCAAAGCAAT-1 Spleen Chronic_D21 TetPos\n",
       "Spleen_Chronic_D21_CD8_TetPos_gex_AAACCTGCACGGTAGA-1 Spleen Chronic_D21 TetPos\n",
       "Spleen_Chronic_D21_CD8_TetPos_gex_AAACCTGCACTTAAGC-1 Spleen Chronic_D21 TetPos\n",
       "                                                     ident    UMAP_1    \n",
       "Spleen_Chronic_D21_CD8_TetPos_gex_AAACCTGAGATCGGGT-1 TEx_prog  5.1429323\n",
       "Spleen_Chronic_D21_CD8_TetPos_gex_AAACCTGAGCGTTGCC-1 TEx      -6.4847085\n",
       "Spleen_Chronic_D21_CD8_TetPos_gex_AAACCTGAGGCTCTTA-1 TEx      -3.9037251\n",
       "Spleen_Chronic_D21_CD8_TetPos_gex_AAACCTGCAAAGCAAT-1 TEx_int  -1.4091745\n",
       "Spleen_Chronic_D21_CD8_TetPos_gex_AAACCTGCACGGTAGA-1 TEx      -5.4772088\n",
       "Spleen_Chronic_D21_CD8_TetPos_gex_AAACCTGCACTTAAGC-1 TEx_KLR  -0.9639859\n",
       "                                                     UMAP_2   \n",
       "Spleen_Chronic_D21_CD8_TetPos_gex_AAACCTGAGATCGGGT-1  3.791651\n",
       "Spleen_Chronic_D21_CD8_TetPos_gex_AAACCTGAGCGTTGCC-1  2.957752\n",
       "Spleen_Chronic_D21_CD8_TetPos_gex_AAACCTGAGGCTCTTA-1  4.197209\n",
       "Spleen_Chronic_D21_CD8_TetPos_gex_AAACCTGCAAAGCAAT-1 -4.277690\n",
       "Spleen_Chronic_D21_CD8_TetPos_gex_AAACCTGCACGGTAGA-1  2.850194\n",
       "Spleen_Chronic_D21_CD8_TetPos_gex_AAACCTGCACTTAAGC-1 -5.314829\n",
       "                                                     batch                            \n",
       "Spleen_Chronic_D21_CD8_TetPos_gex_AAACCTGAGATCGGGT-1 Spleen_Chronic_D21_CD8_TetPos_gex\n",
       "Spleen_Chronic_D21_CD8_TetPos_gex_AAACCTGAGCGTTGCC-1 Spleen_Chronic_D21_CD8_TetPos_gex\n",
       "Spleen_Chronic_D21_CD8_TetPos_gex_AAACCTGAGGCTCTTA-1 Spleen_Chronic_D21_CD8_TetPos_gex\n",
       "Spleen_Chronic_D21_CD8_TetPos_gex_AAACCTGCAAAGCAAT-1 Spleen_Chronic_D21_CD8_TetPos_gex\n",
       "Spleen_Chronic_D21_CD8_TetPos_gex_AAACCTGCACGGTAGA-1 Spleen_Chronic_D21_CD8_TetPos_gex\n",
       "Spleen_Chronic_D21_CD8_TetPos_gex_AAACCTGCACTTAAGC-1 Spleen_Chronic_D21_CD8_TetPos_gex\n",
       "                                                     experiment S.Score      \n",
       "Spleen_Chronic_D21_CD8_TetPos_gex_AAACCTGAGATCGGGT-1 Exp1       -0.0751224673\n",
       "Spleen_Chronic_D21_CD8_TetPos_gex_AAACCTGAGCGTTGCC-1 Exp1       -0.0039184913\n",
       "Spleen_Chronic_D21_CD8_TetPos_gex_AAACCTGAGGCTCTTA-1 Exp1       -0.0890207255\n",
       "Spleen_Chronic_D21_CD8_TetPos_gex_AAACCTGCAAAGCAAT-1 Exp1       -0.0008411922\n",
       "Spleen_Chronic_D21_CD8_TetPos_gex_AAACCTGCACGGTAGA-1 Exp1       -0.0457123502\n",
       "Spleen_Chronic_D21_CD8_TetPos_gex_AAACCTGCACTTAAGC-1 Exp1       -0.1105587602\n",
       "                                                     G2M.Score   Phase\n",
       "Spleen_Chronic_D21_CD8_TetPos_gex_AAACCTGAGATCGGGT-1 -0.12768138 G1   \n",
       "Spleen_Chronic_D21_CD8_TetPos_gex_AAACCTGAGCGTTGCC-1 -0.02759395 G1   \n",
       "Spleen_Chronic_D21_CD8_TetPos_gex_AAACCTGAGGCTCTTA-1 -0.00299223 G1   \n",
       "Spleen_Chronic_D21_CD8_TetPos_gex_AAACCTGCAAAGCAAT-1 -0.11616059 G1   \n",
       "Spleen_Chronic_D21_CD8_TetPos_gex_AAACCTGCACGGTAGA-1 -0.12167401 G1   \n",
       "Spleen_Chronic_D21_CD8_TetPos_gex_AAACCTGCACTTAAGC-1 -0.15395307 G1   \n",
       "                                                     integrate.ident\n",
       "Spleen_Chronic_D21_CD8_TetPos_gex_AAACCTGAGATCGGGT-1 Exp1           \n",
       "Spleen_Chronic_D21_CD8_TetPos_gex_AAACCTGAGCGTTGCC-1 Exp1           \n",
       "Spleen_Chronic_D21_CD8_TetPos_gex_AAACCTGAGGCTCTTA-1 Exp1           \n",
       "Spleen_Chronic_D21_CD8_TetPos_gex_AAACCTGCAAAGCAAT-1 Exp1           \n",
       "Spleen_Chronic_D21_CD8_TetPos_gex_AAACCTGCACGGTAGA-1 Exp1           \n",
       "Spleen_Chronic_D21_CD8_TetPos_gex_AAACCTGCACTTAAGC-1 Exp1           \n",
       "                                                     integrated_snn_res.0.45\n",
       "Spleen_Chronic_D21_CD8_TetPos_gex_AAACCTGAGATCGGGT-1 7                      \n",
       "Spleen_Chronic_D21_CD8_TetPos_gex_AAACCTGAGCGTTGCC-1 0                      \n",
       "Spleen_Chronic_D21_CD8_TetPos_gex_AAACCTGAGGCTCTTA-1 0                      \n",
       "Spleen_Chronic_D21_CD8_TetPos_gex_AAACCTGCAAAGCAAT-1 2                      \n",
       "Spleen_Chronic_D21_CD8_TetPos_gex_AAACCTGCACGGTAGA-1 0                      \n",
       "Spleen_Chronic_D21_CD8_TetPos_gex_AAACCTGCACTTAAGC-1 1                      \n",
       "                                                     seurat_clusters\n",
       "Spleen_Chronic_D21_CD8_TetPos_gex_AAACCTGAGATCGGGT-1 7              \n",
       "Spleen_Chronic_D21_CD8_TetPos_gex_AAACCTGAGCGTTGCC-1 0              \n",
       "Spleen_Chronic_D21_CD8_TetPos_gex_AAACCTGAGGCTCTTA-1 0              \n",
       "Spleen_Chronic_D21_CD8_TetPos_gex_AAACCTGCAAAGCAAT-1 2              \n",
       "Spleen_Chronic_D21_CD8_TetPos_gex_AAACCTGCACGGTAGA-1 0              \n",
       "Spleen_Chronic_D21_CD8_TetPos_gex_AAACCTGCACTTAAGC-1 1              "
      ]
     },
     "metadata": {},
     "output_type": "display_data"
    }
   ],
   "source": [
    "head(sub@meta.data)"
   ]
  },
  {
   "cell_type": "code",
   "execution_count": 7,
   "metadata": {},
   "outputs": [],
   "source": [
    "Idents(sub) = 'ident'"
   ]
  },
  {
   "cell_type": "code",
   "execution_count": 12,
   "metadata": {},
   "outputs": [
    {
     "name": "stderr",
     "output_type": "stream",
     "text": [
      "Calculating cluster TEx_prog\n",
      "\n",
      "Calculating cluster TEx\n",
      "\n",
      "Calculating cluster TEx_int\n",
      "\n",
      "Calculating cluster TEx_KLR\n",
      "\n",
      "Calculating cluster Ifn_Response\n",
      "\n",
      "Calculating cluster TEx_earlyEffector\n",
      "\n",
      "Calculating cluster Naive\n",
      "\n"
     ]
    }
   ],
   "source": [
    "library(ggplot2)\n",
    "markers.all = FindAllMarkers(sub, only.pos = TRUE)"
   ]
  },
  {
   "cell_type": "code",
   "execution_count": 14,
   "metadata": {},
   "outputs": [],
   "source": [
    "saveRDS(markers.all, 'yostmarkers.RDS')"
   ]
  }
 ],
 "metadata": {
  "kernelspec": {
   "display_name": "Rv4",
   "language": "R",
   "name": "ir4"
  },
  "language_info": {
   "codemirror_mode": "r",
   "file_extension": ".r",
   "mimetype": "text/x-r-source",
   "name": "R",
   "pygments_lexer": "r",
   "version": "4.1.0"
  }
 },
 "nbformat": 4,
 "nbformat_minor": 4
}
