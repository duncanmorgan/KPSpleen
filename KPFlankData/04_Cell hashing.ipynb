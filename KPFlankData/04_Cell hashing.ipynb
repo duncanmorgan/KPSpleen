{
 "cells": [
  {
   "cell_type": "code",
   "execution_count": 2,
   "metadata": {},
   "outputs": [],
   "source": [
    "library(Seurat)\n",
    "seurat = readRDS('../initialseurat.RDS')"
   ]
  },
  {
   "cell_type": "code",
   "execution_count": 5,
   "metadata": {},
   "outputs": [
    {
     "name": "stderr",
     "output_type": "stream",
     "text": [
      "Updating from v2.X to v3.X\n",
      "\n",
      "Validating object structure\n",
      "\n",
      "Updating object slots\n",
      "\n",
      "Ensuring keys are in the proper strucutre\n",
      "\n",
      "Ensuring feature names don't have underscores or pipes\n",
      "\n",
      "Object representation is consistent with the most current Seurat version\n",
      "\n"
     ]
    },
    {
     "data": {
      "text/plain": [
       "\n",
       "    C     P \n",
       " 5191 35829 "
      ]
     },
     "metadata": {},
     "output_type": "display_data"
    }
   ],
   "source": [
    "seurat = UpdateSeuratObject(seurat)\n",
    "seurat@meta.data$letter = substring(seurat@meta.data$orig, 1, 1)\n",
    "table(seurat@meta.data$letter)"
   ]
  },
  {
   "cell_type": "code",
   "execution_count": 6,
   "metadata": {},
   "outputs": [],
   "source": [
    "resultsA = read.table('210514Lov.csv', header = 1, stringsAsFactors = FALSE, sep = ',', row.names = 1)\n",
    "resultsB = read.table('211130Lov.csv', header = 1, stringsAsFactors = FALSE, sep = ',', row.names = 1)[6:11]\n",
    "\n",
    "colnames(resultsB)[1:5] = colnames(resultsA)[1:5]\n",
    "results = rbind(resultsA, resultsB)"
   ]
  },
  {
   "cell_type": "code",
   "execution_count": 7,
   "metadata": {},
   "outputs": [],
   "source": [
    "seurat$id = paste0(seurat$orig, seurat$bc)\n",
    "seurat = subset(seurat, cells = colnames(seurat)[seurat$id %in% rownames(results)])"
   ]
  },
  {
   "cell_type": "code",
   "execution_count": 8,
   "metadata": {},
   "outputs": [],
   "source": [
    "hash_mat = results[seurat$id,]\n",
    "bcs_to_names = colnames(seurat)\n",
    "names(bcs_to_names) = seurat$id\n",
    "rownames(hash_mat) = bcs_to_names[rownames(hash_mat)]"
   ]
  },
  {
   "cell_type": "code",
   "execution_count": 9,
   "metadata": {},
   "outputs": [],
   "source": [
    "seurat[['HTO']] = CreateAssayObject(counts = t(hash_mat))\n",
    "#seurat = subset(seurat, cells =colnames(seurat)[seurat$n_genes > 1000])"
   ]
  },
  {
   "cell_type": "code",
   "execution_count": 10,
   "metadata": {},
   "outputs": [],
   "source": [
    "seurat = subset(seurat, cells = colnames(seurat)[seurat@meta.data$nCount_HTO > 5 ])"
   ]
  },
  {
   "cell_type": "code",
   "execution_count": 33,
   "metadata": {},
   "outputs": [
    {
     "name": "stderr",
     "output_type": "stream",
     "text": [
      "C1\n",
      "\n",
      "Normalizing across cells\n",
      "\n"
     ]
    },
    {
     "name": "stdout",
     "output_type": "stream",
     "text": [
      "[1] 1.287927\n",
      "[1] 1.573499\n",
      "[1] 1.287425\n",
      "[1] 0.5094153\n",
      "[1] 0\n"
     ]
    },
    {
     "name": "stderr",
     "output_type": "stream",
     "text": [
      "danger\n",
      "\n",
      "C4\n",
      "\n",
      "Normalizing across cells\n",
      "\n"
     ]
    },
    {
     "name": "stdout",
     "output_type": "stream",
     "text": [
      "[1] 1.001571\n",
      "[1] 1.389664\n",
      "[1] 0.6360292\n",
      "[1] 1.172962\n",
      "[1] 1.548001\n"
     ]
    },
    {
     "name": "stderr",
     "output_type": "stream",
     "text": [
      "C8\n",
      "\n",
      "Normalizing across cells\n",
      "\n"
     ]
    },
    {
     "name": "stdout",
     "output_type": "stream",
     "text": [
      "[1] 0.5039646\n",
      "[1] 0.7478743\n",
      "[1] 0.851808\n",
      "[1] 0.9396038\n",
      "[1] 1.084083\n"
     ]
    },
    {
     "name": "stderr",
     "output_type": "stream",
     "text": [
      "C7\n",
      "\n",
      "Normalizing across cells\n",
      "\n"
     ]
    },
    {
     "name": "stdout",
     "output_type": "stream",
     "text": [
      "[1] 1.142718\n",
      "[1] 1.511926\n",
      "[1] 0.06200915\n"
     ]
    },
    {
     "name": "stderr",
     "output_type": "stream",
     "text": [
      "danger\n",
      "\n"
     ]
    },
    {
     "name": "stdout",
     "output_type": "stream",
     "text": [
      "[1] 1.380389\n",
      "[1] 1.47557\n"
     ]
    },
    {
     "name": "stderr",
     "output_type": "stream",
     "text": [
      "P1\n",
      "\n",
      "Normalizing across cells\n",
      "\n"
     ]
    },
    {
     "name": "stdout",
     "output_type": "stream",
     "text": [
      "[1] 2.302709\n",
      "[1] 2.464476\n",
      "[1] 2.222714\n",
      "[1] 2.231493\n",
      "[1] 0\n"
     ]
    },
    {
     "name": "stderr",
     "output_type": "stream",
     "text": [
      "danger\n",
      "\n",
      "P2\n",
      "\n",
      "Normalizing across cells\n",
      "\n"
     ]
    },
    {
     "name": "stdout",
     "output_type": "stream",
     "text": [
      "[1] 1.425942\n",
      "[1] 1.610085\n",
      "[1] 1.382699\n",
      "[1] 1.592124\n",
      "[1] 1.353026\n"
     ]
    },
    {
     "name": "stderr",
     "output_type": "stream",
     "text": [
      "P3\n",
      "\n",
      "Normalizing across cells\n",
      "\n"
     ]
    },
    {
     "name": "stdout",
     "output_type": "stream",
     "text": [
      "[1] 0.7426206\n",
      "[1] 0.8774658\n",
      "[1] 1.000233\n",
      "[1] 1.389951\n",
      "[1] 0.7063786\n"
     ]
    },
    {
     "name": "stderr",
     "output_type": "stream",
     "text": [
      "P4\n",
      "\n",
      "Normalizing across cells\n",
      "\n"
     ]
    },
    {
     "name": "stdout",
     "output_type": "stream",
     "text": [
      "[1] 1.587834\n",
      "[1] 1.801079\n",
      "[1] 1.757255\n",
      "[1] 1.660115\n",
      "[1] 0\n"
     ]
    },
    {
     "name": "stderr",
     "output_type": "stream",
     "text": [
      "danger\n",
      "\n",
      "P5\n",
      "\n",
      "Normalizing across cells\n",
      "\n"
     ]
    },
    {
     "name": "stdout",
     "output_type": "stream",
     "text": [
      "[1] 0.8665347\n",
      "[1] 1.554289\n",
      "[1] 0.9897035\n",
      "[1] 1.345608\n",
      "[1] 0.5223486\n"
     ]
    },
    {
     "name": "stderr",
     "output_type": "stream",
     "text": [
      "P6\n",
      "\n",
      "Normalizing across cells\n",
      "\n"
     ]
    },
    {
     "name": "stdout",
     "output_type": "stream",
     "text": [
      "[1] 1.536691\n",
      "[1] 1.799249\n",
      "[1] 1.708771\n",
      "[1] 1.720002\n",
      "[1] 0\n"
     ]
    },
    {
     "name": "stderr",
     "output_type": "stream",
     "text": [
      "danger\n",
      "\n"
     ]
    }
   ],
   "source": [
    "library(MASS)\n",
    "library(cluster)\n",
    "library(outliers)\n",
    "library(dplyr)\n",
    "seurat$hash = NA\n",
    "Idents(seurat) = 'orig'\n",
    "for (curr in unique(seurat$orig)) {\n",
    "    message(curr)\n",
    "   sub =subset(seurat, idents =  curr)\n",
    "   sub =subset(sub, nCount_HTO > 20)\n",
    "\n",
    "    if (length(colnames(sub)) > 50) {\n",
    "        \n",
    "        sub[['HTO']] = CreateAssayObject(counts = t(hash_mat[colnames(sub),c(1:5)]))\n",
    "\n",
    "        sub = NormalizeData(sub, assay = 'HTO', normalization.method = 'CLR', margin = 2)\n",
    "        \n",
    "        \n",
    "\n",
    "        DefaultAssay(sub) = 'HTO'\n",
    "        data = GetAssayData(sub)\n",
    "\n",
    "        # k medioids\n",
    "        meds = pam(t(data), k = dim(data)[1])\n",
    "        calls = t(data)\n",
    "        cluster_data = meds$medoids %>% as.matrix()\n",
    "        \n",
    "\n",
    "        for (i in 1:dim(cluster_data)[2]) {\n",
    "            \n",
    "  \n",
    "\n",
    "            curr_med = which.max(cluster_data[,i])\n",
    "            negs = meds$clustering[meds$clustering != curr_med]\n",
    "            neg_vals = data[i, names(negs)]\n",
    "            pos_vals = data[i, meds$clustering == curr_med]\n",
    "            pos_vals = pos_vals[order(pos_vals)] \n",
    "            done = FALSE\n",
    "            thresh = min(pos_vals)\n",
    "            # remove outliers and set threshold\n",
    "            while(!done & length(pos_vals) > 5) {\n",
    "                done = TRUE\n",
    "                avg = mean(pos_vals)\n",
    "                diff1 = avg - min(pos_vals)\n",
    "                diff2 = max(pos_vals) - avg\n",
    "                test = grubbs.test(pos_vals, opposite = diff1 < diff2)\n",
    "                if (test$p.value < 0.05) {\n",
    "                    pos_vals = pos_vals[-1]\n",
    "                    done = FALSE\n",
    "                }\n",
    "                thresh = min(pos_vals)\n",
    "\n",
    "            }\n",
    "            print(thresh)\n",
    "            if (thresh < .3) {\n",
    "                thresh = 1.5\n",
    "                message('danger')\n",
    "            }\n",
    "    if (curr == 'C1') {\n",
    "                thresh = 1.2\n",
    "            }\n",
    "             if (curr == 'C4' & i == 4) {\n",
    "                thresh = 1\n",
    "            }\n",
    "             if (curr == 'C8') {\n",
    "                thresh = 1\n",
    "            }\n",
    "            \n",
    "             if (curr == 'P4') {\n",
    "                thresh = 1.3\n",
    "            }\n",
    "            \n",
    "            calls[,i] = as.numeric(calls[,i] >= thresh)\n",
    "            assign = apply(calls, 1, which.max)\n",
    "            assign = paste0( 'HTO', assign)\n",
    "            rsums = rowSums(calls)\n",
    "            \n",
    "        \n",
    "            \n",
    "            assign[rsums > 1] = 'Doublet'\n",
    "            assign[rsums == 0] = 'Negative'\n",
    " \n",
    "            seurat@meta.data[colnames(sub), 'hash'] = assign\n",
    "\n",
    "            pheatmap::pheatmap(t(data), annotation_row = data.frame(row.names = colnames(data), id = factor(assign)), filename = paste0(curr, '.png'), show_rownames = FALSE)\n",
    "\n",
    "        }\n",
    "    }\n",
    "}"
   ]
  },
  {
   "cell_type": "code",
   "execution_count": 34,
   "metadata": {},
   "outputs": [],
   "source": [
    "saveRDS(seurat@meta.data, 'hashed_seurat_meta.RDS')\n",
    "#saveRDS(seurat, 'hashed_seurat.RDS')\n"
   ]
  }
 ],
 "metadata": {
  "kernelspec": {
   "display_name": "Rv4",
   "language": "R",
   "name": "ir4"
  },
  "language_info": {
   "codemirror_mode": "r",
   "file_extension": ".r",
   "mimetype": "text/x-r-source",
   "name": "R",
   "pygments_lexer": "r",
   "version": "4.1.0"
  }
 },
 "nbformat": 4,
 "nbformat_minor": 2
}
